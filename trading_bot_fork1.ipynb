{
 "cells": [
  {
   "cell_type": "code",
   "execution_count": 179,
   "metadata": {},
   "outputs": [
    {
     "data": {
      "text/html": [
       "<div>\n",
       "<style scoped>\n",
       "    .dataframe tbody tr th:only-of-type {\n",
       "        vertical-align: middle;\n",
       "    }\n",
       "\n",
       "    .dataframe tbody tr th {\n",
       "        vertical-align: top;\n",
       "    }\n",
       "\n",
       "    .dataframe thead th {\n",
       "        text-align: right;\n",
       "    }\n",
       "</style>\n",
       "<table border=\"1\" class=\"dataframe\">\n",
       "  <thead>\n",
       "    <tr style=\"text-align: right;\">\n",
       "      <th></th>\n",
       "      <th>datetime</th>\n",
       "      <th>open</th>\n",
       "      <th>high</th>\n",
       "      <th>low</th>\n",
       "      <th>close</th>\n",
       "      <th>volume</th>\n",
       "      <th>close_time</th>\n",
       "      <th>qav</th>\n",
       "      <th>num_trades</th>\n",
       "      <th>taker_base_vol</th>\n",
       "      <th>taker_quote_vol</th>\n",
       "      <th>ignore</th>\n",
       "    </tr>\n",
       "  </thead>\n",
       "  <tbody>\n",
       "    <tr>\n",
       "      <th>0</th>\n",
       "      <td>2022-07-04</td>\n",
       "      <td>19315.83000000</td>\n",
       "      <td>20354.01000000</td>\n",
       "      <td>19055.31000000</td>\n",
       "      <td>20236.71000000</td>\n",
       "      <td>74814.04601000</td>\n",
       "      <td>1656979199999</td>\n",
       "      <td>1470987695.52158190</td>\n",
       "      <td>1282843</td>\n",
       "      <td>38543.72441000</td>\n",
       "      <td>758241531.98802060</td>\n",
       "      <td>0</td>\n",
       "    </tr>\n",
       "    <tr>\n",
       "      <th>1</th>\n",
       "      <td>2022-07-05</td>\n",
       "      <td>20236.71000000</td>\n",
       "      <td>20750.00000000</td>\n",
       "      <td>19304.40000000</td>\n",
       "      <td>20175.83000000</td>\n",
       "      <td>96041.13756000</td>\n",
       "      <td>1657065599999</td>\n",
       "      <td>1919950110.16743050</td>\n",
       "      <td>1612273</td>\n",
       "      <td>48358.47507000</td>\n",
       "      <td>967109793.38447560</td>\n",
       "      <td>0</td>\n",
       "    </tr>\n",
       "    <tr>\n",
       "      <th>2</th>\n",
       "      <td>2022-07-06</td>\n",
       "      <td>20175.84000000</td>\n",
       "      <td>20675.22000000</td>\n",
       "      <td>19761.25000000</td>\n",
       "      <td>20564.51000000</td>\n",
       "      <td>82439.58080000</td>\n",
       "      <td>1657151999999</td>\n",
       "      <td>1665481948.00963180</td>\n",
       "      <td>1472221</td>\n",
       "      <td>41580.73433000</td>\n",
       "      <td>840150579.64268600</td>\n",
       "      <td>0</td>\n",
       "    </tr>\n",
       "    <tr>\n",
       "      <th>3</th>\n",
       "      <td>2022-07-07</td>\n",
       "      <td>20564.51000000</td>\n",
       "      <td>21838.10000000</td>\n",
       "      <td>20251.68000000</td>\n",
       "      <td>21624.98000000</td>\n",
       "      <td>85014.58261000</td>\n",
       "      <td>1657238399999</td>\n",
       "      <td>1783224085.72367990</td>\n",
       "      <td>1653722</td>\n",
       "      <td>42731.53720000</td>\n",
       "      <td>896703207.21045650</td>\n",
       "      <td>0</td>\n",
       "    </tr>\n",
       "    <tr>\n",
       "      <th>4</th>\n",
       "      <td>2022-07-08</td>\n",
       "      <td>21624.99000000</td>\n",
       "      <td>22527.37000000</td>\n",
       "      <td>21189.26000000</td>\n",
       "      <td>21594.75000000</td>\n",
       "      <td>403081.57349000</td>\n",
       "      <td>1657324799999</td>\n",
       "      <td>8781330156.61243140</td>\n",
       "      <td>4358216</td>\n",
       "      <td>201798.10144000</td>\n",
       "      <td>4396546053.03190870</td>\n",
       "      <td>0</td>\n",
       "    </tr>\n",
       "  </tbody>\n",
       "</table>\n",
       "</div>"
      ],
      "text/plain": [
       "    datetime            open            high             low           close  \\\n",
       "0 2022-07-04  19315.83000000  20354.01000000  19055.31000000  20236.71000000   \n",
       "1 2022-07-05  20236.71000000  20750.00000000  19304.40000000  20175.83000000   \n",
       "2 2022-07-06  20175.84000000  20675.22000000  19761.25000000  20564.51000000   \n",
       "3 2022-07-07  20564.51000000  21838.10000000  20251.68000000  21624.98000000   \n",
       "4 2022-07-08  21624.99000000  22527.37000000  21189.26000000  21594.75000000   \n",
       "\n",
       "            volume     close_time                  qav  num_trades  \\\n",
       "0   74814.04601000  1656979199999  1470987695.52158190     1282843   \n",
       "1   96041.13756000  1657065599999  1919950110.16743050     1612273   \n",
       "2   82439.58080000  1657151999999  1665481948.00963180     1472221   \n",
       "3   85014.58261000  1657238399999  1783224085.72367990     1653722   \n",
       "4  403081.57349000  1657324799999  8781330156.61243140     4358216   \n",
       "\n",
       "    taker_base_vol      taker_quote_vol ignore  \n",
       "0   38543.72441000   758241531.98802060      0  \n",
       "1   48358.47507000   967109793.38447560      0  \n",
       "2   41580.73433000   840150579.64268600      0  \n",
       "3   42731.53720000   896703207.21045650      0  \n",
       "4  201798.10144000  4396546053.03190870      0  "
      ]
     },
     "execution_count": 179,
     "metadata": {},
     "output_type": "execute_result"
    }
   ],
   "source": [
    "import requests\n",
    "from datetime import datetime, timedelta\n",
    "import json\n",
    "import pandas as pd\n",
    "\n",
    "url = 'https://api.binance.com/api/v3/klines'\n",
    "symbol = 'BTCUSDT'\n",
    "interval = '1d'\n",
    "period = datetime.now() - timedelta(450)\n",
    "\n",
    "data_start = int(period.timestamp()*1000)\n",
    "date_end = int(datetime.now().timestamp()*1000)\n",
    "\n",
    "parametres = {\n",
    "    'symbol' : symbol,\n",
    "    'interval' : interval,\n",
    "    'startTime' : data_start,\n",
    "    'endTime' : date_end\n",
    "}\n",
    "\n",
    "res = json.loads(requests.get(url,params = parametres).text)\n",
    "df= pd.DataFrame(res)\n",
    "df.columns = ['datetime','open','high','low','close','volume','close_time','qav','num_trades','taker_base_vol','taker_quote_vol','ignore']\n",
    "df['datetime'] = pd.to_datetime(df['datetime'], unit='ms')\n",
    "\n",
    "df.head()"
   ]
  },
  {
   "cell_type": "code",
   "execution_count": 180,
   "metadata": {},
   "outputs": [
    {
     "data": {
      "text/html": [
       "<div>\n",
       "<style scoped>\n",
       "    .dataframe tbody tr th:only-of-type {\n",
       "        vertical-align: middle;\n",
       "    }\n",
       "\n",
       "    .dataframe tbody tr th {\n",
       "        vertical-align: top;\n",
       "    }\n",
       "\n",
       "    .dataframe thead th {\n",
       "        text-align: right;\n",
       "    }\n",
       "</style>\n",
       "<table border=\"1\" class=\"dataframe\">\n",
       "  <thead>\n",
       "    <tr style=\"text-align: right;\">\n",
       "      <th></th>\n",
       "      <th>datetime</th>\n",
       "      <th>open</th>\n",
       "      <th>high</th>\n",
       "      <th>low</th>\n",
       "      <th>close</th>\n",
       "      <th>volume</th>\n",
       "    </tr>\n",
       "  </thead>\n",
       "  <tbody>\n",
       "    <tr>\n",
       "      <th>0</th>\n",
       "      <td>2022-07-04</td>\n",
       "      <td>19315.83000000</td>\n",
       "      <td>20354.01000000</td>\n",
       "      <td>19055.31000000</td>\n",
       "      <td>20236.71000000</td>\n",
       "      <td>74814.04601000</td>\n",
       "    </tr>\n",
       "    <tr>\n",
       "      <th>1</th>\n",
       "      <td>2022-07-05</td>\n",
       "      <td>20236.71000000</td>\n",
       "      <td>20750.00000000</td>\n",
       "      <td>19304.40000000</td>\n",
       "      <td>20175.83000000</td>\n",
       "      <td>96041.13756000</td>\n",
       "    </tr>\n",
       "    <tr>\n",
       "      <th>2</th>\n",
       "      <td>2022-07-06</td>\n",
       "      <td>20175.84000000</td>\n",
       "      <td>20675.22000000</td>\n",
       "      <td>19761.25000000</td>\n",
       "      <td>20564.51000000</td>\n",
       "      <td>82439.58080000</td>\n",
       "    </tr>\n",
       "    <tr>\n",
       "      <th>3</th>\n",
       "      <td>2022-07-07</td>\n",
       "      <td>20564.51000000</td>\n",
       "      <td>21838.10000000</td>\n",
       "      <td>20251.68000000</td>\n",
       "      <td>21624.98000000</td>\n",
       "      <td>85014.58261000</td>\n",
       "    </tr>\n",
       "    <tr>\n",
       "      <th>4</th>\n",
       "      <td>2022-07-08</td>\n",
       "      <td>21624.99000000</td>\n",
       "      <td>22527.37000000</td>\n",
       "      <td>21189.26000000</td>\n",
       "      <td>21594.75000000</td>\n",
       "      <td>403081.57349000</td>\n",
       "    </tr>\n",
       "  </tbody>\n",
       "</table>\n",
       "</div>"
      ],
      "text/plain": [
       "    datetime            open            high             low           close  \\\n",
       "0 2022-07-04  19315.83000000  20354.01000000  19055.31000000  20236.71000000   \n",
       "1 2022-07-05  20236.71000000  20750.00000000  19304.40000000  20175.83000000   \n",
       "2 2022-07-06  20175.84000000  20675.22000000  19761.25000000  20564.51000000   \n",
       "3 2022-07-07  20564.51000000  21838.10000000  20251.68000000  21624.98000000   \n",
       "4 2022-07-08  21624.99000000  22527.37000000  21189.26000000  21594.75000000   \n",
       "\n",
       "            volume  \n",
       "0   74814.04601000  \n",
       "1   96041.13756000  \n",
       "2   82439.58080000  \n",
       "3   85014.58261000  \n",
       "4  403081.57349000  "
      ]
     },
     "execution_count": 180,
     "metadata": {},
     "output_type": "execute_result"
    }
   ],
   "source": [
    "df.drop(['close_time','qav','taker_base_vol','taker_quote_vol','ignore','num_trades'],axis=1,inplace=True)#Just dropping columns here!\n",
    "df.head()"
   ]
  },
  {
   "cell_type": "code",
   "execution_count": 181,
   "metadata": {},
   "outputs": [
    {
     "data": {
      "text/html": [
       "<div>\n",
       "<style scoped>\n",
       "    .dataframe tbody tr th:only-of-type {\n",
       "        vertical-align: middle;\n",
       "    }\n",
       "\n",
       "    .dataframe tbody tr th {\n",
       "        vertical-align: top;\n",
       "    }\n",
       "\n",
       "    .dataframe thead th {\n",
       "        text-align: right;\n",
       "    }\n",
       "</style>\n",
       "<table border=\"1\" class=\"dataframe\">\n",
       "  <thead>\n",
       "    <tr style=\"text-align: right;\">\n",
       "      <th></th>\n",
       "      <th>datetime</th>\n",
       "      <th>open</th>\n",
       "      <th>high</th>\n",
       "      <th>low</th>\n",
       "      <th>close</th>\n",
       "      <th>volume</th>\n",
       "    </tr>\n",
       "  </thead>\n",
       "  <tbody>\n",
       "    <tr>\n",
       "      <th>445</th>\n",
       "      <td>2023-09-22</td>\n",
       "      <td>26568.08000000</td>\n",
       "      <td>26743.38000000</td>\n",
       "      <td>26468.77000000</td>\n",
       "      <td>26580.14000000</td>\n",
       "      <td>18198.22920000</td>\n",
       "    </tr>\n",
       "    <tr>\n",
       "      <th>446</th>\n",
       "      <td>2023-09-23</td>\n",
       "      <td>26580.14000000</td>\n",
       "      <td>26632.81000000</td>\n",
       "      <td>26509.00000000</td>\n",
       "      <td>26575.96000000</td>\n",
       "      <td>9440.70260000</td>\n",
       "    </tr>\n",
       "    <tr>\n",
       "      <th>447</th>\n",
       "      <td>2023-09-24</td>\n",
       "      <td>26575.97000000</td>\n",
       "      <td>26738.54000000</td>\n",
       "      <td>26122.08000000</td>\n",
       "      <td>26248.38000000</td>\n",
       "      <td>15706.65771000</td>\n",
       "    </tr>\n",
       "    <tr>\n",
       "      <th>448</th>\n",
       "      <td>2023-09-25</td>\n",
       "      <td>26248.39000000</td>\n",
       "      <td>26446.15000000</td>\n",
       "      <td>25990.46000000</td>\n",
       "      <td>26304.81000000</td>\n",
       "      <td>26266.20390000</td>\n",
       "    </tr>\n",
       "    <tr>\n",
       "      <th>449</th>\n",
       "      <td>2023-09-26</td>\n",
       "      <td>26304.80000000</td>\n",
       "      <td>26397.46000000</td>\n",
       "      <td>26234.37000000</td>\n",
       "      <td>26279.32000000</td>\n",
       "      <td>4181.06341000</td>\n",
       "    </tr>\n",
       "  </tbody>\n",
       "</table>\n",
       "</div>"
      ],
      "text/plain": [
       "      datetime            open            high             low  \\\n",
       "445 2023-09-22  26568.08000000  26743.38000000  26468.77000000   \n",
       "446 2023-09-23  26580.14000000  26632.81000000  26509.00000000   \n",
       "447 2023-09-24  26575.97000000  26738.54000000  26122.08000000   \n",
       "448 2023-09-25  26248.39000000  26446.15000000  25990.46000000   \n",
       "449 2023-09-26  26304.80000000  26397.46000000  26234.37000000   \n",
       "\n",
       "              close          volume  \n",
       "445  26580.14000000  18198.22920000  \n",
       "446  26575.96000000   9440.70260000  \n",
       "447  26248.38000000  15706.65771000  \n",
       "448  26304.81000000  26266.20390000  \n",
       "449  26279.32000000   4181.06341000  "
      ]
     },
     "execution_count": 181,
     "metadata": {},
     "output_type": "execute_result"
    }
   ],
   "source": [
    "df.tail()"
   ]
  },
  {
   "cell_type": "code",
   "execution_count": 182,
   "metadata": {},
   "outputs": [
    {
     "data": {
      "text/plain": [
       "datetime    False\n",
       "open        False\n",
       "high        False\n",
       "low         False\n",
       "close       False\n",
       "volume      False\n",
       "dtype: bool"
      ]
     },
     "execution_count": 182,
     "metadata": {},
     "output_type": "execute_result"
    }
   ],
   "source": [
    "df.isnull().any()#We don't have any NaN values luckily"
   ]
  },
  {
   "cell_type": "code",
   "execution_count": 183,
   "metadata": {},
   "outputs": [
    {
     "data": {
      "text/plain": [
       "(450, 6)"
      ]
     },
     "execution_count": 183,
     "metadata": {},
     "output_type": "execute_result"
    }
   ],
   "source": [
    "df.shape #We can see that we have 1696 observations for bitcoin here "
   ]
  },
  {
   "cell_type": "code",
   "execution_count": 184,
   "metadata": {},
   "outputs": [
    {
     "data": {
      "text/html": [
       "<div>\n",
       "<style scoped>\n",
       "    .dataframe tbody tr th:only-of-type {\n",
       "        vertical-align: middle;\n",
       "    }\n",
       "\n",
       "    .dataframe tbody tr th {\n",
       "        vertical-align: top;\n",
       "    }\n",
       "\n",
       "    .dataframe thead th {\n",
       "        text-align: right;\n",
       "    }\n",
       "</style>\n",
       "<table border=\"1\" class=\"dataframe\">\n",
       "  <thead>\n",
       "    <tr style=\"text-align: right;\">\n",
       "      <th></th>\n",
       "      <th>open</th>\n",
       "      <th>high</th>\n",
       "      <th>low</th>\n",
       "      <th>close</th>\n",
       "      <th>volume</th>\n",
       "    </tr>\n",
       "    <tr>\n",
       "      <th>datetime</th>\n",
       "      <th></th>\n",
       "      <th></th>\n",
       "      <th></th>\n",
       "      <th></th>\n",
       "      <th></th>\n",
       "    </tr>\n",
       "  </thead>\n",
       "  <tbody>\n",
       "    <tr>\n",
       "      <th>2022-07-04</th>\n",
       "      <td>19315.83000000</td>\n",
       "      <td>20354.01000000</td>\n",
       "      <td>19055.31000000</td>\n",
       "      <td>20236.71000000</td>\n",
       "      <td>74814.04601000</td>\n",
       "    </tr>\n",
       "    <tr>\n",
       "      <th>2022-07-05</th>\n",
       "      <td>20236.71000000</td>\n",
       "      <td>20750.00000000</td>\n",
       "      <td>19304.40000000</td>\n",
       "      <td>20175.83000000</td>\n",
       "      <td>96041.13756000</td>\n",
       "    </tr>\n",
       "    <tr>\n",
       "      <th>2022-07-06</th>\n",
       "      <td>20175.84000000</td>\n",
       "      <td>20675.22000000</td>\n",
       "      <td>19761.25000000</td>\n",
       "      <td>20564.51000000</td>\n",
       "      <td>82439.58080000</td>\n",
       "    </tr>\n",
       "    <tr>\n",
       "      <th>2022-07-07</th>\n",
       "      <td>20564.51000000</td>\n",
       "      <td>21838.10000000</td>\n",
       "      <td>20251.68000000</td>\n",
       "      <td>21624.98000000</td>\n",
       "      <td>85014.58261000</td>\n",
       "    </tr>\n",
       "    <tr>\n",
       "      <th>2022-07-08</th>\n",
       "      <td>21624.99000000</td>\n",
       "      <td>22527.37000000</td>\n",
       "      <td>21189.26000000</td>\n",
       "      <td>21594.75000000</td>\n",
       "      <td>403081.57349000</td>\n",
       "    </tr>\n",
       "  </tbody>\n",
       "</table>\n",
       "</div>"
      ],
      "text/plain": [
       "                      open            high             low           close  \\\n",
       "datetime                                                                     \n",
       "2022-07-04  19315.83000000  20354.01000000  19055.31000000  20236.71000000   \n",
       "2022-07-05  20236.71000000  20750.00000000  19304.40000000  20175.83000000   \n",
       "2022-07-06  20175.84000000  20675.22000000  19761.25000000  20564.51000000   \n",
       "2022-07-07  20564.51000000  21838.10000000  20251.68000000  21624.98000000   \n",
       "2022-07-08  21624.99000000  22527.37000000  21189.26000000  21594.75000000   \n",
       "\n",
       "                     volume  \n",
       "datetime                     \n",
       "2022-07-04   74814.04601000  \n",
       "2022-07-05   96041.13756000  \n",
       "2022-07-06   82439.58080000  \n",
       "2022-07-07   85014.58261000  \n",
       "2022-07-08  403081.57349000  "
      ]
     },
     "execution_count": 184,
     "metadata": {},
     "output_type": "execute_result"
    }
   ],
   "source": [
    "df['datetime'] = pd.to_datetime(df['datetime'], unit='ms')\n",
    "df = df.set_index('datetime')\n",
    "df.head()\n"
   ]
  },
  {
   "cell_type": "code",
   "execution_count": 185,
   "metadata": {},
   "outputs": [
    {
     "name": "stdout",
     "output_type": "stream",
     "text": [
      "<class 'pandas.core.frame.DataFrame'>\n",
      "DatetimeIndex: 450 entries, 2022-07-04 to 2023-09-26\n",
      "Data columns (total 5 columns):\n",
      " #   Column  Non-Null Count  Dtype \n",
      "---  ------  --------------  ----- \n",
      " 0   open    450 non-null    object\n",
      " 1   high    450 non-null    object\n",
      " 2   low     450 non-null    object\n",
      " 3   close   450 non-null    object\n",
      " 4   volume  450 non-null    object\n",
      "dtypes: object(5)\n",
      "memory usage: 21.1+ KB\n"
     ]
    }
   ],
   "source": [
    "df.info()"
   ]
  },
  {
   "cell_type": "code",
   "execution_count": 186,
   "metadata": {},
   "outputs": [],
   "source": [
    "df['open'] = df['open'].astype(float)\n",
    "df['high'] = df['high'].astype(float)\n",
    "df['low'] = df['low'].astype(float)\n",
    "df['close'] = df['close'].astype(float)\n"
   ]
  },
  {
   "cell_type": "code",
   "execution_count": 187,
   "metadata": {},
   "outputs": [
    {
     "data": {
      "text/plain": [
       "<matplotlib.legend.Legend at 0x7ab97f14f100>"
      ]
     },
     "execution_count": 187,
     "metadata": {},
     "output_type": "execute_result"
    },
    {
     "data": {
      "image/png": "[encoded data removed]",
      "text/plain": [
       "<Figure size 1200x600 with 1 Axes>"
      ]
     },
     "metadata": {},
     "output_type": "display_data"
    }
   ],
   "source": [
    "import seaborn as sns\n",
    "import matplotlib.pyplot as plt\n",
    "sns.set()\n",
    "sns.set_style('whitegrid')\n",
    "\n",
    "df['close'].plot(figsize=(12,6),label='Close')\n",
    "df['close'].rolling(window=30).mean().plot(label='30 Day Avg')# Plotting the \n",
    "\n",
    "plt.legend()"
   ]
  },
  {
   "cell_type": "code",
   "execution_count": 188,
   "metadata": {},
   "outputs": [],
   "source": [
    "df['ohlc_average'] = (df['open'] + df['high'] + df['low'] + df['close']) / 4"
   ]
  },
  {
   "cell_type": "code",
   "execution_count": 189,
   "metadata": {},
   "outputs": [],
   "source": [
    "X = df[:int(len(df)-1)]\n",
    "y = df['close']\n",
    "y= y[:int(len(df)-1)]"
   ]
  },
  {
   "cell_type": "code",
   "execution_count": 190,
   "metadata": {},
   "outputs": [],
   "source": [
    "# The model\n",
    "from sklearn.ensemble import RandomForestRegressor\n",
    "reg=RandomForestRegressor(n_estimators=200,random_state=101)"
   ]
  },
  {
   "cell_type": "code",
   "execution_count": 191,
   "metadata": {},
   "outputs": [],
   "source": [
    "# Split the Dataset\n",
    "from sklearn.model_selection import train_test_split\n",
    "X_train, X_test, y_train, y_test = train_test_split(X, y, test_size=0.2, random_state=8)"
   ]
  },
  {
   "cell_type": "code",
   "execution_count": 192,
   "metadata": {},
   "outputs": [
    {
     "data": {
      "text/html": [
       "<style>#sk-container-id-2 {color: black;background-color: white;}#sk-container-id-2 pre{padding: 0;}#sk-container-id-2 div.sk-toggleable {background-color: white;}#sk-container-id-2 label.sk-toggleable__label {cursor: pointer;display: block;width: 100%;margin-bottom: 0;padding: 0.3em;box-sizing: border-box;text-align: center;}#sk-container-id-2 label.sk-toggleable__label-arrow:before {content: \"▸\";float: left;margin-right: 0.25em;color: #696969;}#sk-container-id-2 label.sk-toggleable__label-arrow:hover:before {color: black;}#sk-container-id-2 div.sk-estimator:hover label.sk-toggleable__label-arrow:before {color: black;}#sk-container-id-2 div.sk-toggleable__content {max-height: 0;max-width: 0;overflow: hidden;text-align: left;background-color: #f0f8ff;}#sk-container-id-2 div.sk-toggleable__content pre {margin: 0.2em;color: black;border-radius: 0.25em;background-color: #f0f8ff;}#sk-container-id-2 input.sk-toggleable__control:checked~div.sk-toggleable__content {max-height: 200px;max-width: 100%;overflow: auto;}#sk-container-id-2 input.sk-toggleable__control:checked~label.sk-toggleable__label-arrow:before {content: \"▾\";}#sk-container-id-2 div.sk-estimator input.sk-toggleable__control:checked~label.sk-toggleable__label {background-color: #d4ebff;}#sk-container-id-2 div.sk-label input.sk-toggleable__control:checked~label.sk-toggleable__label {background-color: #d4ebff;}#sk-container-id-2 input.sk-hidden--visually {border: 0;clip: rect(1px 1px 1px 1px);clip: rect(1px, 1px, 1px, 1px);height: 1px;margin: -1px;overflow: hidden;padding: 0;position: absolute;width: 1px;}#sk-container-id-2 div.sk-estimator {font-family: monospace;background-color: #f0f8ff;border: 1px dotted black;border-radius: 0.25em;box-sizing: border-box;margin-bottom: 0.5em;}#sk-container-id-2 div.sk-estimator:hover {background-color: #d4ebff;}#sk-container-id-2 div.sk-parallel-item::after {content: \"\";width: 100%;border-bottom: 1px solid gray;flex-grow: 1;}#sk-container-id-2 div.sk-label:hover label.sk-toggleable__label {background-color: #d4ebff;}#sk-container-id-2 div.sk-serial::before {content: \"\";position: absolute;border-left: 1px solid gray;box-sizing: border-box;top: 0;bottom: 0;left: 50%;z-index: 0;}#sk-container-id-2 div.sk-serial {display: flex;flex-direction: column;align-items: center;background-color: white;padding-right: 0.2em;padding-left: 0.2em;position: relative;}#sk-container-id-2 div.sk-item {position: relative;z-index: 1;}#sk-container-id-2 div.sk-parallel {display: flex;align-items: stretch;justify-content: center;background-color: white;position: relative;}#sk-container-id-2 div.sk-item::before, #sk-container-id-2 div.sk-parallel-item::before {content: \"\";position: absolute;border-left: 1px solid gray;box-sizing: border-box;top: 0;bottom: 0;left: 50%;z-index: -1;}#sk-container-id-2 div.sk-parallel-item {display: flex;flex-direction: column;z-index: 1;position: relative;background-color: white;}#sk-container-id-2 div.sk-parallel-item:first-child::after {align-self: flex-end;width: 50%;}#sk-container-id-2 div.sk-parallel-item:last-child::after {align-self: flex-start;width: 50%;}#sk-container-id-2 div.sk-parallel-item:only-child::after {width: 0;}#sk-container-id-2 div.sk-dashed-wrapped {border: 1px dashed gray;margin: 0 0.4em 0.5em 0.4em;box-sizing: border-box;padding-bottom: 0.4em;background-color: white;}#sk-container-id-2 div.sk-label label {font-family: monospace;font-weight: bold;display: inline-block;line-height: 1.2em;}#sk-container-id-2 div.sk-label-container {text-align: center;}#sk-container-id-2 div.sk-container {/* jupyter's `normalize.less` sets `[hidden] { display: none; }` but bootstrap.min.css set `[hidden] { display: none !important; }` so we also need the `!important` here to be able to override the default hidden behavior on the sphinx rendered scikit-learn.org. See: https://github.com/scikit-learn/scikit-learn/issues/21755 */display: inline-block !important;position: relative;}#sk-container-id-2 div.sk-text-repr-fallback {display: none;}</style><div id=\"sk-container-id-2\" class=\"sk-top-container\"><div class=\"sk-text-repr-fallback\"><pre>RandomForestRegressor(n_estimators=200, random_state=101)</pre><b>In a Jupyter environment, please rerun this cell to show the HTML representation or trust the notebook. <br />On GitHub, the HTML representation is unable to render, please try loading this page with nbviewer.org.</b></div><div class=\"sk-container\" hidden><div class=\"sk-item\"><div class=\"sk-estimator sk-toggleable\"><input class=\"sk-toggleable__control sk-hidden--visually\" id=\"sk-estimator-id-2\" type=\"checkbox\" checked><label for=\"sk-estimator-id-2\" class=\"sk-toggleable__label sk-toggleable__label-arrow\">RandomForestRegressor</label><div class=\"sk-toggleable__content\"><pre>RandomForestRegressor(n_estimators=200, random_state=101)</pre></div></div></div></div></div>"
      ],
      "text/plain": [
       "RandomForestRegressor(n_estimators=200, random_state=101)"
      ]
     },
     "execution_count": 192,
     "metadata": {},
     "output_type": "execute_result"
    }
   ],
   "source": [
    "#Train the model\n",
    "reg.fit(X_train,y_train)\n"
   ]
  },
  {
   "cell_type": "code",
   "execution_count": 193,
   "metadata": {},
   "outputs": [
    {
     "name": "stdout",
     "output_type": "stream",
     "text": [
      "Accuracy is: 99.9691 %\n"
     ]
    }
   ],
   "source": [
    "#Test the model\n",
    "accuracy=reg.score(X_test,y_test)\n",
    "accuracy=accuracy*100\n",
    "accuracy = float(\"{0:.4f}\".format(accuracy))\n",
    "print('Accuracy is:',accuracy,'%')#This percentage shows how much our regression fits our data"
   ]
  },
  {
   "cell_type": "code",
   "execution_count": 194,
   "metadata": {},
   "outputs": [
    {
     "name": "stdout",
     "output_type": "stream",
     "text": [
      "The predcition is :  [26253.11155]\n",
      "The last price was :  26279.32\n"
     ]
    }
   ],
   "source": [
    "#Make the predictions\n",
    "new_data = df.tail(1)\n",
    "prediction = reg.predict(new_data)\n",
    "print ( \"The predcition is : \",prediction)\n",
    "print ( \"The last price was : \",df[['close']].tail(1).values[0][0])\n",
    "\n"
   ]
  }
 ],
 "metadata": {
  "kernelspec": {
   "display_name": "Python 3",
   "language": "python",
   "name": "python3"
  },
  "language_info": {
   "codemirror_mode": {
    "name": "ipython",
    "version": 3
   },
   "file_extension": ".py",
   "mimetype": "text/x-python",
   "name": "python",
   "nbconvert_exporter": "python",
   "pygments_lexer": "ipython3",
   "version": "3.9.2"
  },
  "orig_nbformat": 4,
  "vscode": {
   "interpreter": {
    "hash": "916dbcbb3f70747c44a77c7bcd40155683ae19c65e1c03b4aa3499c5328201f1"
   }
  }
 },
 "nbformat": 4,
 "nbformat_minor": 2
}
